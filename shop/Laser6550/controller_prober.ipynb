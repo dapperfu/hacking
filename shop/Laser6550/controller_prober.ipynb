{
 "cells": [
  {
   "cell_type": "markdown",
   "metadata": {},
   "source": [
    "# Controller Prober\n",
    "\n",
    "Controller is an Arduino Nano clone on a custom PCB with 2 stepper drivers (X & Y).\n",
    "\n",
    "Instructions only show a Windows only program for 'engraving' pictures.\n",
    "\n",
    "Goal: Figure out what the board is running & how to use it with Python."
   ]
  },
  {
   "cell_type": "code",
   "execution_count": 1,
   "metadata": {},
   "outputs": [],
   "source": [
    "import serial\n",
    "from time import sleep"
   ]
  },
  {
   "cell_type": "markdown",
   "metadata": {},
   "source": [
    "## 1. Baud Rate\n",
    "\n",
    "How fast are we talking?"
   ]
  },
  {
   "cell_type": "code",
   "execution_count": 2,
   "metadata": {},
   "outputs": [],
   "source": [
    "baudrates = [1200, 2400, 4800, 9600, 19200, 38400, 57600, 115200]"
   ]
  },
  {
   "cell_type": "code",
   "execution_count": 3,
   "metadata": {},
   "outputs": [
    {
     "name": "stdout",
     "output_type": "stream",
     "text": [
      "1200: b'\\xfc'\n",
      "2400: b'\\xd4'\n",
      "4800: b'\\xd0\\xed'\n",
      "9600: b'>\\x83)\\xee'\n",
      "19200: b'Ib\\xc6R\\xd3RS\\xff'\n",
      "38400: b'\\xd4\\xba\\x98\\x08b\\xc6\\x93\\xc5\\x80\\xb0\\xafP\\xb9\\xf3'\n",
      "57600: b'\\xbc\\x8d\\x0e\\x9d!!9L\\x84\\rJ\\xbdH\\x0e\\x8a\\xd8\\x9f\\xee\\x8c\\xcc'\n",
      "115200: b'benbox laser 3.1(c) mul 2015.06.06\\r\\nstart\\r\\nok\\r\\n'\n"
     ]
    }
   ],
   "source": [
    "for baudrate in baudrates:\n",
    "    with serial.Serial(\n",
    "        port='/dev/ttyUSB0',\n",
    "        baudrate=baudrate,\n",
    "        bytesize=serial.EIGHTBITS,\n",
    "        parity=serial.PARITY_NONE,\n",
    "        stopbits=serial.STOPBITS_ONE,\n",
    "        timeout=1,\n",
    "        xonxoff=0,\n",
    "        rtscts=0\n",
    "    ) as arduino:\n",
    "        # Toggle DTR to reset Arduino\n",
    "        arduino.setDTR(False)\n",
    "        sleep(2)\n",
    "        print(\"{}: {}\".format(baudrate, arduino.read_all()))"
   ]
  },
  {
   "cell_type": "markdown",
   "metadata": {},
   "source": [
    "## 2. Dialect\n",
    "\n",
    "What are we talking?"
   ]
  },
  {
   "cell_type": "code",
   "execution_count": 4,
   "metadata": {},
   "outputs": [
    {
     "data": {
      "text/plain": [
       "b'benbox laser 3.1(c) mul 2015.06.06\\r\\nstart\\r\\nok\\r\\n'"
      ]
     },
     "execution_count": 4,
     "metadata": {},
     "output_type": "execute_result"
    }
   ],
   "source": [
    "try:\n",
    "    # If we're already executed this cell before, close the serial port first.\n",
    "    ser.close()\n",
    "except:\n",
    "    pass\n",
    "\n",
    "cfg = {\n",
    "    \"port\": '/dev/ttyUSB0',\n",
    "    \"baudrate\": 115200,\n",
    "    \"bytesize\": serial.EIGHTBITS,\n",
    "    \"parity\": serial.PARITY_NONE,\n",
    "    \"stopbits\": serial.STOPBITS_ONE,\n",
    "    \"timeout\": 10,\n",
    "    \"xonxoff\": 0,\n",
    "    \"rtscts\": 0,\n",
    "}\n",
    "ser = serial.Serial(**cfg)\n",
    "ser.setDTR(False)\n",
    "sleep(2)\n",
    "ser.read_all()"
   ]
  },
  {
   "cell_type": "code",
   "execution_count": 5,
   "metadata": {},
   "outputs": [
    {
     "data": {
      "text/plain": [
       "b''"
      ]
     },
     "execution_count": 5,
     "metadata": {},
     "output_type": "execute_result"
    }
   ],
   "source": [
    "ser.write(b\"\\n\\n\")\n",
    "ser.read_all()"
   ]
  },
  {
   "cell_type": "code",
   "execution_count": 6,
   "metadata": {},
   "outputs": [
    {
     "data": {
      "text/plain": [
       "b''"
      ]
     },
     "execution_count": 6,
     "metadata": {},
     "output_type": "execute_result"
    }
   ],
   "source": [
    "ser.write(b\"$$\\n\")\n",
    "ser.read_all()"
   ]
  },
  {
   "cell_type": "code",
   "execution_count": 7,
   "metadata": {},
   "outputs": [
    {
     "data": {
      "text/plain": [
       "b'ok\\r\\nok\\r\\n'"
      ]
     },
     "execution_count": 7,
     "metadata": {},
     "output_type": "execute_result"
    }
   ],
   "source": [
    "ser.write(b\"$$\\r\\n\")\n",
    "ser.read_all()"
   ]
  },
  {
   "cell_type": "code",
   "execution_count": 8,
   "metadata": {},
   "outputs": [
    {
     "data": {
      "text/plain": [
       "b'ok\\r\\n'"
      ]
     },
     "execution_count": 8,
     "metadata": {},
     "output_type": "execute_result"
    }
   ],
   "source": [
    "ser.write(b\"help\\r\\n\")\n",
    "ser.read_all()"
   ]
  },
  {
   "cell_type": "code",
   "execution_count": 9,
   "metadata": {},
   "outputs": [
    {
     "data": {
      "text/plain": [
       "b'ok\\r\\n'"
      ]
     },
     "execution_count": 9,
     "metadata": {},
     "output_type": "execute_result"
    }
   ],
   "source": [
    "ser.write(b\"help\\r\\n\")\n",
    "sleep(5)\n",
    "ser.read_all()"
   ]
  },
  {
   "cell_type": "markdown",
   "metadata": {},
   "source": [
    "## 3. More Probing."
   ]
  },
  {
   "cell_type": "code",
   "execution_count": 10,
   "metadata": {},
   "outputs": [],
   "source": [
    "# Create a class to make it easy to add features.\n",
    "class Benbox(serial.Serial):\n",
    "    def __init__(self, *args, **kwargs):\n",
    "        super().__init__(*args, **kwargs)"
   ]
  },
  {
   "cell_type": "code",
   "execution_count": 11,
   "metadata": {},
   "outputs": [
    {
     "data": {
      "text/plain": [
       "b'benbox laser 3.1(c) mul 2015.06.06\\r\\nstart\\r\\nok\\r\\n'"
      ]
     },
     "execution_count": 11,
     "metadata": {},
     "output_type": "execute_result"
    }
   ],
   "source": [
    "try:\n",
    "    # If we're already executed this cell before, close the serial port first.\n",
    "    ser.close()\n",
    "except:\n",
    "    pass\n",
    "\n",
    "cfg = {\n",
    "    \"port\": '/dev/ttyUSB0',\n",
    "    \"baudrate\": 115200,\n",
    "    \"bytesize\": serial.EIGHTBITS,\n",
    "    \"parity\": serial.PARITY_NONE,\n",
    "    \"stopbits\": serial.STOPBITS_ONE,\n",
    "    \"timeout\": 10,\n",
    "    \"xonxoff\": 0,\n",
    "    \"rtscts\": 0,\n",
    "}\n",
    "ser = Benbox(**cfg)\n",
    "ser.setDTR(False)\n",
    "sleep(2)\n",
    "ser.read_all()"
   ]
  },
  {
   "cell_type": "code",
   "execution_count": 12,
   "metadata": {},
   "outputs": [
    {
     "data": {
      "text/plain": [
       "b'ok\\r\\n'"
      ]
     },
     "execution_count": 12,
     "metadata": {},
     "output_type": "execute_result"
    }
   ],
   "source": [
    "ser.write(\"$$\\r\\n\".encode(\"UTF-8\"))\n",
    "ser.read(size=8192)"
   ]
  },
  {
   "cell_type": "code",
   "execution_count": null,
   "metadata": {},
   "outputs": [],
   "source": [
    "ser.write(\"$#\\r\\n\".encode(\"UTF-8\"))\n",
    "ser.read(size=8192)"
   ]
  },
  {
   "cell_type": "markdown",
   "metadata": {},
   "source": [
    "Doesn't respond to GRBL commands..."
   ]
  }
 ],
 "metadata": {
  "kernelspec": {
   "display_name": "Python 3",
   "language": "python",
   "name": "python3"
  },
  "language_info": {
   "codemirror_mode": {
    "name": "ipython",
    "version": 3
   },
   "file_extension": ".py",
   "mimetype": "text/x-python",
   "name": "python",
   "nbconvert_exporter": "python",
   "pygments_lexer": "ipython3",
   "version": "3.5.3"
  }
 },
 "nbformat": 4,
 "nbformat_minor": 2
}
