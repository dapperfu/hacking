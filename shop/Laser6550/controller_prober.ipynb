{
 "cells": [
  {
   "cell_type": "markdown",
   "metadata": {},
   "source": [
    "# Controller Prober\n",
    "\n",
    "Controller is an Arduino Nano clone on a custom PCB with 2 stepper drivers (X & Y).\n",
    "\n",
    "Instructions only show a Windows only program for 'engraving' pictures.\n",
    "\n",
    "Goal: Figure out what the board is running & how to use it with Python."
   ]
  },
  {
   "cell_type": "code",
   "execution_count": 1,
   "metadata": {},
   "outputs": [],
   "source": [
    "import serial\n",
    "from time import sleep"
   ]
  },
  {
   "cell_type": "markdown",
   "metadata": {},
   "source": [
    "## 1. Baud Rate\n",
    "\n",
    "How fast are we talking?"
   ]
  },
  {
   "cell_type": "code",
   "execution_count": 13,
   "metadata": {},
   "outputs": [],
   "source": [
    "baudrates = [1200, 2400, 4800, 9600, 19200, 38400, 57600, 115200]"
   ]
  },
  {
   "cell_type": "code",
   "execution_count": 14,
   "metadata": {},
   "outputs": [
    {
     "name": "stdout",
     "output_type": "stream",
     "text": [
      "1200: b'\\xfa'\n",
      "2400: b'\\x95'\n",
      "4800: b'\\x87\\xf3'\n",
      "9600: b'\\xb6|j\\xf2'\n",
      "19200: b'\\x101A\\xd2\\xd2\\x93\\xff'\n",
      "38400: b'\\xd4\\x9a\\x98\\x08b\\xc6\\x93\\xc5\\x80\\xb0\\xafP\\xb9\\xf3'\n",
      "57600: b'\\xbc\\x8d\\x0e\\x9d!!9L\\x84\\rJ\\xbdH\\x0e\\x8a\\xd8\\x9f\\xee\\x8c\\xcc'\n",
      "115200: b'benbox laser 3.1(c) mul 2015.06.06\\r\\nstart\\r\\nok\\r\\n'\n"
     ]
    }
   ],
   "source": [
    "for baudrate in baudrates:\n",
    "    with serial.Serial(\n",
    "        port='/dev/ttyUSB0',\n",
    "        baudrate=baudrate,\n",
    "        bytesize=serial.EIGHTBITS,\n",
    "        parity=serial.PARITY_NONE,\n",
    "        stopbits=serial.STOPBITS_ONE,\n",
    "        timeout=1,\n",
    "        xonxoff=0,\n",
    "        rtscts=0\n",
    "    ) as arduino:\n",
    "        # Toggle DTR to reset Arduino\n",
    "        arduino.setDTR(False)\n",
    "        sleep(2)\n",
    "        print(\"{}: {}\".format(baudrate, arduino.read_all()))"
   ]
  },
  {
   "cell_type": "markdown",
   "metadata": {},
   "source": [
    "## 2. Dialect\n",
    "\n",
    "What are we talking?"
   ]
  },
  {
   "cell_type": "code",
   "execution_count": 6,
   "metadata": {},
   "outputs": [
    {
     "data": {
      "text/plain": [
       "b'benbox laser 3.1(c) mul 2015.06.06\\r\\nstart\\r\\nok\\r\\n'"
      ]
     },
     "execution_count": 6,
     "metadata": {},
     "output_type": "execute_result"
    }
   ],
   "source": [
    "try:\n",
    "    # If we're already executed this cell before, close the serial port first.\n",
    "    ser.close()\n",
    "except:\n",
    "    pass\n",
    "\n",
    "cfg = {\n",
    "    \"port\": '/dev/ttyUSB0',\n",
    "    \"baudrate\": 115200,\n",
    "    \"bytesize\": serial.EIGHTBITS,\n",
    "    \"parity\": serial.PARITY_NONE,\n",
    "    \"stopbits\": serial.STOPBITS_ONE,\n",
    "    \"timeout\": 10,\n",
    "    \"xonxoff\": 0,\n",
    "    \"rtscts\": 0,\n",
    "}\n",
    "ser = serial.Serial(**cfg)\n",
    "ser.setDTR(False)\n",
    "sleep(2)\n",
    "ser.read_all()"
   ]
  },
  {
   "cell_type": "code",
   "execution_count": 7,
   "metadata": {},
   "outputs": [
    {
     "data": {
      "text/plain": [
       "b''"
      ]
     },
     "execution_count": 7,
     "metadata": {},
     "output_type": "execute_result"
    }
   ],
   "source": [
    "ser.write(b\"\\n\\n\")\n",
    "ser.read_all()"
   ]
  },
  {
   "cell_type": "code",
   "execution_count": 8,
   "metadata": {},
   "outputs": [
    {
     "data": {
      "text/plain": [
       "b''"
      ]
     },
     "execution_count": 8,
     "metadata": {},
     "output_type": "execute_result"
    }
   ],
   "source": [
    "ser.write(b\"$$\\n\")\n",
    "ser.read_all()"
   ]
  },
  {
   "cell_type": "code",
   "execution_count": 9,
   "metadata": {},
   "outputs": [
    {
     "data": {
      "text/plain": [
       "b'ok\\r\\n'"
      ]
     },
     "execution_count": 9,
     "metadata": {},
     "output_type": "execute_result"
    }
   ],
   "source": [
    "ser.write(b\"$$\\r\\n\")\n",
    "ser.read_all()"
   ]
  },
  {
   "cell_type": "code",
   "execution_count": 10,
   "metadata": {},
   "outputs": [
    {
     "data": {
      "text/plain": [
       "b'ok\\r\\n'"
      ]
     },
     "execution_count": 10,
     "metadata": {},
     "output_type": "execute_result"
    }
   ],
   "source": [
    "ser.write(b\"help\\r\\n\")\n",
    "ser.read_all()"
   ]
  },
  {
   "cell_type": "code",
   "execution_count": 11,
   "metadata": {},
   "outputs": [
    {
     "data": {
      "text/plain": [
       "b'ok\\r\\nok\\r\\n'"
      ]
     },
     "execution_count": 11,
     "metadata": {},
     "output_type": "execute_result"
    }
   ],
   "source": [
    "ser.write(b\"help\\r\\n\")\n",
    "sleep(5)\n",
    "ser.read_all()"
   ]
  },
  {
   "cell_type": "code",
   "execution_count": null,
   "metadata": {},
   "outputs": [],
   "source": []
  }
 ],
 "metadata": {
  "kernelspec": {
   "display_name": "Python 3",
   "language": "python",
   "name": "python3"
  },
  "language_info": {
   "codemirror_mode": {
    "name": "ipython",
    "version": 3
   },
   "file_extension": ".py",
   "mimetype": "text/x-python",
   "name": "python",
   "nbconvert_exporter": "python",
   "pygments_lexer": "ipython3",
   "version": "3.6.6"
  }
 },
 "nbformat": 4,
 "nbformat_minor": 2
}
